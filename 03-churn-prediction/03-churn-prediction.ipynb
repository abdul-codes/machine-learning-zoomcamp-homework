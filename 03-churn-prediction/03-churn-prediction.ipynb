{
 "cells": [
  {
   "cell_type": "markdown",
   "id": "f9e98e2f-4303-45bf-94f3-0b7eaac56d81",
   "metadata": {},
   "source": [
    "## 3.1 Churn prediction Project"
   ]
  },
  {
   "cell_type": "markdown",
   "id": "93934819-546a-4e97-80ba-018367586a61",
   "metadata": {},
   "source": [
    "3.2 Data Preparation"
   ]
  },
  {
   "cell_type": "code",
   "execution_count": 1,
   "id": "a3664f6c-b34e-494b-8ac9-0b436b8bcae8",
   "metadata": {},
   "outputs": [],
   "source": [
    "import pandas as pd \n",
    "import numpy as np\n",
    "\n",
    "import matplotlib.pyplot as plt"
   ]
  },
  {
   "cell_type": "code",
   "execution_count": null,
   "id": "a66f53df-94e2-49f5-b412-a29d07b5ceff",
   "metadata": {},
   "outputs": [],
   "source": [
    "data='https://raw.githubusercontent.com/alexeygrigorev/mlbookcamp-code/master/chapter-03-churn-prediction/WA_Fn-UseC_-Telco-Customer-Churn.csv'"
   ]
  },
  {
   "cell_type": "code",
   "execution_count": null,
   "id": "28a04b62-ade1-4955-b5ba-dabb6fa4fac6",
   "metadata": {},
   "outputs": [],
   "source": [
    "!wget $data -O data-week-3.csv "
   ]
  },
  {
   "cell_type": "code",
   "execution_count": null,
   "id": "7b13cd5a-ba39-47a5-a97d-cc2bf6f5f799",
   "metadata": {},
   "outputs": [],
   "source": [
    "df = pd.read_csv('data-week-3.csv')\n",
    "df.head()"
   ]
  },
  {
   "cell_type": "code",
   "execution_count": null,
   "id": "c06a373a-640a-4d94-9863-b112dfb5a53b",
   "metadata": {},
   "outputs": [],
   "source": []
  },
  {
   "cell_type": "code",
   "execution_count": null,
   "id": "94be3c7b-a0ba-476a-ae62-6789fe2fedf4",
   "metadata": {},
   "outputs": [],
   "source": [
    "df.columns = df.columns.str.lower().str.replace(' ', '_')\n",
    "\n",
    "categorical_columns = list(df.dtypes[df.dtypes == 'object'].index)\n",
    "\n",
    "for c in categorical_columns:\n",
    "    df[c] = df[c].str.lower().str.replace(' ', '_')"
   ]
  },
  {
   "cell_type": "code",
   "execution_count": null,
   "id": "3ca23e18-932e-485e-ba38-84420c1b61dd",
   "metadata": {},
   "outputs": [],
   "source": [
    "df.head().T"
   ]
  },
  {
   "cell_type": "code",
   "execution_count": null,
   "id": "42d9c7f3-74f7-478f-a090-04f9762a6463",
   "metadata": {},
   "outputs": [],
   "source": [
    "df.dtypes"
   ]
  },
  {
   "cell_type": "code",
   "execution_count": null,
   "id": "6337e66c-dc96-423e-8842-1212cfce3358",
   "metadata": {},
   "outputs": [],
   "source": [
    "tc = pd.to_numeric(df.totalcharges, errors='coerce')"
   ]
  },
  {
   "cell_type": "code",
   "execution_count": null,
   "id": "a55b4001-b8f9-4246-a807-ed77fc36b010",
   "metadata": {},
   "outputs": [],
   "source": [
    "df.totalcharges = pd.to_numeric(df.totalcharges, errors='coerce')"
   ]
  },
  {
   "cell_type": "code",
   "execution_count": null,
   "id": "d5133427-43a7-41ec-a184-cf73aecb3f14",
   "metadata": {},
   "outputs": [],
   "source": [
    "df.totalcharges = df.totalcharges.fillna(0)"
   ]
  },
  {
   "cell_type": "code",
   "execution_count": null,
   "id": "0351791e-7a5f-42c0-b8aa-05f76387272f",
   "metadata": {},
   "outputs": [],
   "source": [
    "df.churn.head()"
   ]
  },
  {
   "cell_type": "code",
   "execution_count": null,
   "id": "32062a59-3f88-485e-8a8b-ff705eb726b1",
   "metadata": {},
   "outputs": [],
   "source": [
    "df.churn = (df.churn == 'yes').astype(int)"
   ]
  },
  {
   "cell_type": "markdown",
   "id": "04eaf58a-6161-4a58-bd8b-8a6a6627c5c3",
   "metadata": {},
   "source": [
    "## 3.3 Setting up the validation framework "
   ]
  },
  {
   "cell_type": "markdown",
   "id": "8a731e3a-cac9-4bfb-b0f1-dd23f0f39318",
   "metadata": {},
   "source": [
    "Perform the train/validation/test split with Scikit-Learn\n"
   ]
  },
  {
   "cell_type": "code",
   "execution_count": null,
   "id": "a5cd7b9a-3ebb-4b9c-a1f6-97478124a585",
   "metadata": {},
   "outputs": [],
   "source": [
    "from sklearn.model_selection import train_test_split"
   ]
  },
  {
   "cell_type": "code",
   "execution_count": null,
   "id": "e3d3ddf8-fc4a-43b1-b6eb-8c59e24661c6",
   "metadata": {},
   "outputs": [],
   "source": [
    "df_full_train, df_test = train_test_split(df, test_size=0.2, random_state=1)\n",
    "df_train, df_val = train_test_split(df_full_train, test_size=0.25, random_state=1)"
   ]
  },
  {
   "cell_type": "code",
   "execution_count": null,
   "id": "52b7ff9a-6c71-487e-8cd9-4112bcee88fb",
   "metadata": {},
   "outputs": [],
   "source": [
    "len(df_train), len(df_val), len(df_test)"
   ]
  },
  {
   "cell_type": "code",
   "execution_count": null,
   "id": "eb6690d7-7899-44ab-808f-b2caa230d668",
   "metadata": {},
   "outputs": [],
   "source": [
    "df_train = df_train.reset_index(drop=True)\n",
    "df_val = df_val.reset_index(drop=True)\n",
    "df_test = df_test.reset_index(drop=True)"
   ]
  },
  {
   "cell_type": "code",
   "execution_count": null,
   "id": "423ce1c8-2425-49f4-ab36-e0ffce0ccbf0",
   "metadata": {},
   "outputs": [],
   "source": [
    "y_train = df_train.churn.values\n",
    "y_val = df_val.churn.values\n",
    "y_test = df_test.churn.values\n",
    "\n",
    "del df_train['churn']\n",
    "del df_val['churn']\n",
    "del df_test['churn']"
   ]
  },
  {
   "cell_type": "markdown",
   "id": "5c5f4d76-bb12-4c42-b2b5-bfc4762118fd",
   "metadata": {},
   "source": [
    "## 3.4 EDA\n",
    "    Check missing values\n",
    "    Look at the target variable (churn)\n",
    "    Look at numerical and categorical variables"
   ]
  },
  {
   "cell_type": "code",
   "execution_count": null,
   "id": "fe6efcd4-431a-452e-a33f-8689154b8cec",
   "metadata": {},
   "outputs": [],
   "source": [
    "df_full_train = df_full_train.reset_index(drop=True)"
   ]
  },
  {
   "cell_type": "code",
   "execution_count": null,
   "id": "433eb5ac-c7a0-496c-bd78-65007c904c2d",
   "metadata": {},
   "outputs": [],
   "source": [
    "df_full_train.churn.value_counts(normalize=True)"
   ]
  },
  {
   "cell_type": "code",
   "execution_count": null,
   "id": "673c18e9-516d-4d51-9176-d079eece41a7",
   "metadata": {},
   "outputs": [],
   "source": [
    "global_churn_rate = df_full_train.churn.mean()\n",
    "round(global_churn_rate, 2)"
   ]
  },
  {
   "cell_type": "code",
   "execution_count": null,
   "id": "8dfeeffa-3141-48d7-8b24-11d9b8e31649",
   "metadata": {},
   "outputs": [],
   "source": [
    "numerical = ['tenure', 'monthlycharges', 'totalcharges']"
   ]
  },
  {
   "cell_type": "code",
   "execution_count": null,
   "id": "b26fa8e0-77d9-4205-8268-f1e82561c365",
   "metadata": {},
   "outputs": [],
   "source": [
    "df_full_train.columns"
   ]
  },
  {
   "cell_type": "code",
   "execution_count": null,
   "id": "6603ae51-806c-47ca-93a0-fc48ac7a5ebb",
   "metadata": {},
   "outputs": [],
   "source": [
    "categorical = [\n",
    "    'gender',\n",
    "    'seniorcitizen',\n",
    "    'partner',\n",
    "    'dependents',\n",
    "    'phoneservice',\n",
    "    'multiplelines',\n",
    "    'internetservice',\n",
    "    'onlinesecurity',\n",
    "    'onlinebackup',\n",
    "    'deviceprotection',\n",
    "    'techsupport',\n",
    "    'streamingtv',\n",
    "    'streamingmovies',\n",
    "    'contract',\n",
    "    'paperlessbilling',\n",
    "    'paymentmethod',\n",
    "]"
   ]
  },
  {
   "cell_type": "code",
   "execution_count": null,
   "id": "e946bbd1-cdc2-49f0-b460-89ed13063a5e",
   "metadata": {},
   "outputs": [],
   "source": [
    "df_full_train[categorical].nunique()"
   ]
  },
  {
   "cell_type": "markdown",
   "id": "997499e5-09e2-4010-b4d7-613129a19b32",
   "metadata": {},
   "source": [
    "## 3.5 Feature importance: Churn rate and risk ratio"
   ]
  },
  {
   "cell_type": "code",
   "execution_count": null,
   "id": "0d34b2c8-9ee3-4fd7-950b-17f9e575c761",
   "metadata": {},
   "outputs": [],
   "source": [
    "df_full_train.head()"
   ]
  },
  {
   "cell_type": "markdown",
   "id": "35505eae-8b9e-4824-b0a9-702f1a983b00",
   "metadata": {},
   "source": [
    "Churn rate"
   ]
  },
  {
   "cell_type": "code",
   "execution_count": null,
   "id": "a402a103-d6e2-4edb-8251-c20e151958cd",
   "metadata": {},
   "outputs": [],
   "source": [
    "churn_female = df_full_train[df_full_train.gender == 'female'].churn.mean()\n",
    "churn_female"
   ]
  },
  {
   "cell_type": "code",
   "execution_count": null,
   "id": "385e10e8-6ddf-42c6-9c0e-268b2fb824c8",
   "metadata": {},
   "outputs": [],
   "source": [
    "churn_male = df_full_train[df_full_train.gender == 'male'].churn.mean()\n",
    "churn_male"
   ]
  },
  {
   "cell_type": "code",
   "execution_count": null,
   "id": "25188b70-c4eb-45c5-9647-19713b874d92",
   "metadata": {},
   "outputs": [],
   "source": [
    "global_churn = df_full_train.churn.mean()\n",
    "global_churn"
   ]
  },
  {
   "cell_type": "code",
   "execution_count": null,
   "id": "08dbc088-8694-44c7-a53c-6cdd768fa1bc",
   "metadata": {},
   "outputs": [],
   "source": [
    "df_full_train.partner.value_counts()"
   ]
  },
  {
   "cell_type": "code",
   "execution_count": null,
   "id": "ce695c16-f158-4bb1-9ae9-aa1574bab0fa",
   "metadata": {},
   "outputs": [],
   "source": [
    "churn_partner = df_full_train[df_full_train.partner == 'yes'].churn.mean()\n",
    "churn_partner "
   ]
  },
  {
   "cell_type": "code",
   "execution_count": null,
   "id": "6761ff52-6fb4-4c61-8ce4-9653b5ba332c",
   "metadata": {},
   "outputs": [],
   "source": [
    "global_churn - churn_partner"
   ]
  },
  {
   "cell_type": "code",
   "execution_count": null,
   "id": "adb6e363-09bd-4232-b5d4-3193ac87d1c9",
   "metadata": {},
   "outputs": [],
   "source": [
    "churn_no_partner = df_full_train[df_full_train.partner == 'no'].churn.mean()\n",
    "churn_no_partner"
   ]
  },
  {
   "cell_type": "code",
   "execution_count": null,
   "id": "4cfe74d8-e0be-4042-a6a0-7dc89278ed3b",
   "metadata": {},
   "outputs": [],
   "source": [
    "# "
   ]
  },
  {
   "cell_type": "code",
   "execution_count": null,
   "id": "ed6122ea-d484-4ffd-ab57-0a9fd8278111",
   "metadata": {},
   "outputs": [],
   "source": [
    "global_churn - churn_no_partner"
   ]
  },
  {
   "cell_type": "markdown",
   "id": "b6106383-e1b3-4087-806b-fe823c20caae",
   "metadata": {},
   "source": [
    "Risk Ratio"
   ]
  },
  {
   "cell_type": "code",
   "execution_count": null,
   "id": "d90e785d-4f3e-43e4-bb49-9a7a124bceb4",
   "metadata": {},
   "outputs": [],
   "source": [
    "churn_no_partner / global_churn"
   ]
  },
  {
   "cell_type": "code",
   "execution_count": null,
   "id": "173f724f-0782-47b6-b287-be431f0d869f",
   "metadata": {},
   "outputs": [],
   "source": [
    "churn_partner / global_churn"
   ]
  },
  {
   "cell_type": "raw",
   "id": "b8f4d695-1124-46cb-916f-3951a5b1d959",
   "metadata": {},
   "source": [
    "SELECT\n",
    "    gender,\n",
    "    AVG(churn),\n",
    "    AVG(churn) - global_churn AS diff,\n",
    "    AVG(churn) / global_churn AS risk\n",
    "FROM\n",
    "    data\n",
    "GROUP BY\n",
    "    gender;"
   ]
  },
  {
   "cell_type": "code",
   "execution_count": null,
   "id": "8e0e2e73-c7fc-41ec-a599-8c4341ac88cf",
   "metadata": {},
   "outputs": [],
   "source": [
    "df_full_train.groupby('gender').churn.mean()"
   ]
  },
  {
   "cell_type": "code",
   "execution_count": null,
   "id": "5a87a2f7-d77c-4083-a200-5912079c47bb",
   "metadata": {},
   "outputs": [],
   "source": [
    "from IPython.display import display"
   ]
  },
  {
   "cell_type": "code",
   "execution_count": null,
   "id": "ade002ca-5cbe-463c-982c-14a173dcd359",
   "metadata": {},
   "outputs": [],
   "source": [
    "for c in categorical:\n",
    "    print(c)\n",
    "    df_group = df_full_train.groupby(c).churn.agg(['mean', 'count'])\n",
    "    df_group['diff'] = df_group['mean'] - global_churn\n",
    "    df_group['risk'] = df_group['mean'] / global_churn\n",
    "    df_group\n",
    "    display(df_group)\n",
    "    print()\n",
    "    print()"
   ]
  },
  {
   "cell_type": "markdown",
   "id": "3d821b58-f539-420f-80da-fa4c72d60ee5",
   "metadata": {},
   "source": [
    "## 3.6 Feature importance: Mutual information\n",
    "\n",
    "Mutual information - concept from information theory, it tells us how much we can learn about one variable if we know the value of another"
   ]
  },
  {
   "cell_type": "code",
   "execution_count": null,
   "id": "13866d28-5021-4ad0-8dfd-05e7e760260a",
   "metadata": {},
   "outputs": [],
   "source": [
    "from sklearn.metrics import mutual_info_score"
   ]
  },
  {
   "cell_type": "code",
   "execution_count": null,
   "id": "52655555-4dce-42df-8faa-eb9455eadab0",
   "metadata": {},
   "outputs": [],
   "source": [
    "mutual_info_score(df_full_train.churn, df_full_train.contract)"
   ]
  },
  {
   "cell_type": "markdown",
   "id": "498df1ab-914f-4411-8bc8-9a8f492ce8f5",
   "metadata": {},
   "source": [
    "mutual_info_score(df_full_train.churn, df_full_train.contract)"
   ]
  },
  {
   "cell_type": "code",
   "execution_count": null,
   "id": "f13ddd5a-31ef-4848-ab37-4e6a9030934c",
   "metadata": {},
   "outputs": [],
   "source": [
    "mutual_info_score(df_full_train.churn, df_full_train.gender)"
   ]
  },
  {
   "cell_type": "code",
   "execution_count": null,
   "id": "27207b4b-ba25-4725-bf71-d6caa5cfab79",
   "metadata": {},
   "outputs": [],
   "source": [
    "mutual_info_score(df_full_train.churn, df_full_train.partner)"
   ]
  },
  {
   "cell_type": "code",
   "execution_count": null,
   "id": "3cac7782-5075-4301-9cd6-c34b4ca6d03e",
   "metadata": {},
   "outputs": [],
   "source": [
    "mutual_info_score(df_full_train.churn, df_full_train.contract)"
   ]
  },
  {
   "cell_type": "code",
   "execution_count": null,
   "id": "ee8134c7-1dbe-40df-97a5-043e37628ef6",
   "metadata": {},
   "outputs": [],
   "source": [
    "def mutual_info_churn_score(series):\n",
    "    return mutual_info_score(series, df_full_train.churn)"
   ]
  },
  {
   "cell_type": "code",
   "execution_count": null,
   "id": "897a29fc-a715-4989-ae46-81f6a3ff9fde",
   "metadata": {},
   "outputs": [],
   "source": [
    "ml = df_full_train[categorical].apply(mutual_info_churn_score)\n",
    "ml.sort_values(ascending=False)"
   ]
  },
  {
   "cell_type": "markdown",
   "id": "c3c866be-94db-4bd6-a895-58c6d50b428c",
   "metadata": {},
   "source": [
    "## 3.7 Feature importance: Correlation"
   ]
  },
  {
   "cell_type": "code",
   "execution_count": null,
   "id": "3b76f153-27cd-4bcd-ae66-2e417a5e7571",
   "metadata": {},
   "outputs": [],
   "source": [
    "df_full_train.tenure.max()"
   ]
  },
  {
   "cell_type": "code",
   "execution_count": null,
   "id": "4003c5b1-d8d9-4769-8286-6ee4f5dbb6a3",
   "metadata": {},
   "outputs": [],
   "source": [
    "df_full_train[numerical].corrwith(df_full_train.churn).abs()"
   ]
  },
  {
   "cell_type": "code",
   "execution_count": null,
   "id": "dade69ec-2a5b-46e9-8c36-205b06edd541",
   "metadata": {},
   "outputs": [],
   "source": [
    "df_full_train[df_full_train.tenure <= 2].churn.mean()"
   ]
  },
  {
   "cell_type": "code",
   "execution_count": null,
   "id": "d35d7529-15a8-48f5-882d-d5842093714b",
   "metadata": {},
   "outputs": [],
   "source": [
    "df_full_train[(df_full_train.tenure > 2) & (df_full_train.tenure <= 12)].churn.mean()"
   ]
  },
  {
   "cell_type": "code",
   "execution_count": null,
   "id": "5e082512-a150-491f-a906-0aa70d2ee459",
   "metadata": {},
   "outputs": [],
   "source": [
    "df_full_train[df_full_train.tenure > 12].churn.mean()"
   ]
  },
  {
   "cell_type": "code",
   "execution_count": null,
   "id": "3bd4613d-8e7d-46ed-8651-5abb0b8aae1e",
   "metadata": {},
   "outputs": [],
   "source": [
    "df_full_train[df_full_train.monthlycharges <= 20].churn.mean()"
   ]
  },
  {
   "cell_type": "code",
   "execution_count": null,
   "id": "2025dd70-946c-4210-bb6f-a1323e739420",
   "metadata": {},
   "outputs": [],
   "source": [
    "df_full_train[(df_full_train.monthlycharges > 20) & (df_full_train.monthlycharges <= 50)].churn.mean()"
   ]
  },
  {
   "cell_type": "code",
   "execution_count": null,
   "id": "eb3f8462-60a6-4296-a0fd-a8b43889a170",
   "metadata": {},
   "outputs": [],
   "source": [
    "df_full_train[df_full_train.monthlycharges > 50].churn.mean()"
   ]
  },
  {
   "cell_type": "markdown",
   "id": "819e9d5e-95e5-4446-9b2d-5c9c3c50bc62",
   "metadata": {},
   "source": [
    "## 3.8 One-hot encoding"
   ]
  },
  {
   "cell_type": "code",
   "execution_count": null,
   "id": "433a86dc-7084-44eb-abe4-deed6271aa40",
   "metadata": {},
   "outputs": [],
   "source": [
    "from sklearn.feature_extraction import DictVectorizer"
   ]
  },
  {
   "cell_type": "code",
   "execution_count": null,
   "id": "9ba2743c-bc1c-49a7-a45b-a889f6fb50bf",
   "metadata": {},
   "outputs": [],
   "source": [
    "dv = DictVectorizer(sparse=False)\n",
    "\n",
    "train_dict = df_train[categorical + numerical].to_dict(orient='records')\n",
    "X_train = dv.fit_transform(train_dict)\n",
    "\n",
    "val_dict = df_val[categorical + numerical].to_dict(orient='records')\n",
    "X_val = dv.transform(val_dict)"
   ]
  },
  {
   "cell_type": "markdown",
   "id": "98696b91-3a58-4377-9b4c-0e0a92cf1d16",
   "metadata": {},
   "source": [
    "## 3.9 Logistic regression\n",
    "\n",
    "    Binary classification\n",
    "    Linear vs logistic regression\n",
    "\n"
   ]
  },
  {
   "cell_type": "code",
   "execution_count": null,
   "id": "a9da26a2-d2dd-4a05-83a9-8da8259a7dd0",
   "metadata": {},
   "outputs": [],
   "source": [
    "def sigmoid(z):\n",
    "    return 1 / (1 + np.exp(-z))"
   ]
  },
  {
   "cell_type": "code",
   "execution_count": null,
   "id": "07c091fc-0bb9-4811-8624-11abfabdb3f8",
   "metadata": {},
   "outputs": [],
   "source": [
    "z = np.linspace(-5, 5, 51)"
   ]
  },
  {
   "cell_type": "code",
   "execution_count": null,
   "id": "29cf38e0-dcb7-400c-ae92-5246acc61643",
   "metadata": {},
   "outputs": [],
   "source": [
    "sigmoid(z)"
   ]
  },
  {
   "cell_type": "code",
   "execution_count": null,
   "id": "5f673ce7-963c-4f27-ba8d-5c63b575c272",
   "metadata": {},
   "outputs": [],
   "source": [
    " plt.plot(z, sigmoid(z))"
   ]
  },
  {
   "cell_type": "code",
   "execution_count": null,
   "id": "69ceea90-3e2b-48fa-b809-4173d221ef8e",
   "metadata": {},
   "outputs": [],
   "source": [
    "def linear_regression(xi):\n",
    "    result = w0\n",
    "\n",
    "    for j in range(len(w)):\n",
    "        score = score + xi[j] * w[j]\n",
    "\n",
    "    return result"
   ]
  },
  {
   "cell_type": "code",
   "execution_count": null,
   "id": "1e6f645e-3e71-4637-94ba-d1fe403da996",
   "metadata": {},
   "outputs": [],
   "source": [
    "def logistic_regression(xi):\n",
    "    result = w0\n",
    "\n",
    "    for j in range(len(w)):\n",
    "        score = score + xi[j] * w[j]\n",
    "\n",
    "    result = sigmoid(score)\n",
    "    return result"
   ]
  },
  {
   "cell_type": "markdown",
   "id": "82ecc037-a36b-458f-9762-0389d2f40bf9",
   "metadata": {},
   "source": [
    "## 3.10 Training logistic regression with Scikit-Learn\n",
    "\n",
    "    Train a model with Scikit-Learn\n",
    "    Apply it to the validation dataset\n",
    "    Calculate the accuracy\n",
    "\n"
   ]
  },
  {
   "cell_type": "code",
   "execution_count": null,
   "id": "9fa96243-a8d3-4984-8e4d-5963e9142bd0",
   "metadata": {},
   "outputs": [],
   "source": [
    "from sklearn.linear_model import LogisticRegression"
   ]
  },
  {
   "cell_type": "code",
   "execution_count": null,
   "id": "dd0b96a8-84e1-46b9-86a2-b4c358fbbf24",
   "metadata": {},
   "outputs": [],
   "source": [
    "model = LogisticRegression(max_iter=1000, solver='liblinear')\n",
    "model.fit(X_train, y_train)"
   ]
  },
  {
   "cell_type": "code",
   "execution_count": null,
   "id": "e52c8167-82c6-4316-935a-aee1f8ba0f7f",
   "metadata": {},
   "outputs": [],
   "source": [
    "model.coef_[0].round(3)"
   ]
  },
  {
   "cell_type": "code",
   "execution_count": null,
   "id": "abcccd17-f795-4b08-9dca-72393e72b53d",
   "metadata": {},
   "outputs": [],
   "source": [
    "y_pred = model.predict_proba(X_val)[:, 1]"
   ]
  },
  {
   "cell_type": "code",
   "execution_count": null,
   "id": "34e2aff8-3f33-4461-8073-e858c1b86d75",
   "metadata": {},
   "outputs": [],
   "source": [
    "churn_decision = (y_pred >= 0.5)"
   ]
  },
  {
   "cell_type": "markdown",
   "id": "87c44b3e-9caf-408c-a538-1d21aec527a5",
   "metadata": {},
   "source": [
    "(y_val == churn_decision).mean() "
   ]
  },
  {
   "cell_type": "code",
   "execution_count": null,
   "id": "aebee1e1-2b25-4589-a641-eaf4dda462da",
   "metadata": {},
   "outputs": [],
   "source": [
    "df_pred = pd.DataFrame()\n",
    "df_pred['probability'] = y_pred\n",
    "df_pred['prediction'] = churn_decision.astype(int)\n",
    "df_pred['actual'] = y_val"
   ]
  },
  {
   "cell_type": "code",
   "execution_count": null,
   "id": "fbdbc48e-f87a-43de-bbc2-0264a5f1b71c",
   "metadata": {},
   "outputs": [],
   "source": [
    "df_pred['correct'] = df_pred.prediction == df_pred.actual"
   ]
  },
  {
   "cell_type": "code",
   "execution_count": null,
   "id": "6f25d085-a57f-4b1d-a43d-e7f4e572f89c",
   "metadata": {},
   "outputs": [],
   "source": [
    "df_pred.correct.mean()"
   ]
  },
  {
   "cell_type": "code",
   "execution_count": null,
   "id": "3f83cc5a-01c5-41e0-8dd5-89eb531a0837",
   "metadata": {},
   "outputs": [],
   "source": [
    "churn_decision.astype(int)"
   ]
  },
  {
   "cell_type": "markdown",
   "id": "3b40dc18-f3f2-4442-a400-be8093f39687",
   "metadata": {},
   "source": [
    "## 3.11 Model interpretation\n",
    "\n",
    "    Look at the coefficients\n",
    "    Train a smaller model with fewer features\n",
    "\n"
   ]
  },
  {
   "cell_type": "code",
   "execution_count": null,
   "id": "34a43b64-9671-477c-8804-592bd22b5934",
   "metadata": {},
   "outputs": [],
   "source": [
    "a = [1, 2, 3, 4]\n",
    "b = 'abcd'"
   ]
  },
  {
   "cell_type": "code",
   "execution_count": null,
   "id": "1c74e717-6fff-4c2b-8c5e-3ad90f35d7fa",
   "metadata": {},
   "outputs": [],
   "source": [
    "dict(zip(a, b))"
   ]
  },
  {
   "cell_type": "code",
   "execution_count": null,
   "id": "c35d6abb-6db8-48a0-a336-d7f7df2f35c3",
   "metadata": {},
   "outputs": [],
   "source": [
    "dict(zip(dv.get_feature_names_out(), model.coef_[0].round(3)))"
   ]
  },
  {
   "cell_type": "code",
   "execution_count": null,
   "id": "bd69d9fe-cb53-4886-919b-00c5be52438e",
   "metadata": {},
   "outputs": [],
   "source": [
    "small = ['contract', 'tenure', 'monthlycharges']"
   ]
  },
  {
   "cell_type": "code",
   "execution_count": null,
   "id": "0e51c42a-e7fb-4da7-9383-d3e15977efd8",
   "metadata": {},
   "outputs": [],
   "source": [
    "df_train[small].iloc[:10].to_dict(orient='records')"
   ]
  },
  {
   "cell_type": "code",
   "execution_count": null,
   "id": "65fbbe57-a574-4921-a740-c71c600fc4bf",
   "metadata": {},
   "outputs": [],
   "source": [
    "dicts_train_small = df_train[small].to_dict(orient=\"records\")\n",
    "dicts_val_small = df_val[small].to_dict(orient=\"records\")"
   ]
  },
  {
   "cell_type": "code",
   "execution_count": null,
   "id": "45c98ddf-f445-49d4-a649-ccb164da3753",
   "metadata": {},
   "outputs": [],
   "source": [
    "dv_small = DictVectorizer(sparse=False)\n",
    "dv_small.fit(dicts_train_small)"
   ]
  },
  {
   "cell_type": "code",
   "execution_count": null,
   "id": "85755e7a-2372-456f-a00f-037f1c5c3418",
   "metadata": {},
   "outputs": [],
   "source": [
    "dv_small.get_feature_names_out()"
   ]
  },
  {
   "cell_type": "code",
   "execution_count": null,
   "id": "68a36074-c6f1-406d-b265-a5c34c13106a",
   "metadata": {},
   "outputs": [],
   "source": [
    "X_train_small = dv_small.transform(dicts_train_small)"
   ]
  },
  {
   "cell_type": "code",
   "execution_count": null,
   "id": "cde3cc81-6593-457a-9668-7b9a124b044c",
   "metadata": {},
   "outputs": [],
   "source": [
    "model_small = LogisticRegression()\n",
    "model_small.fit(X_train_small, y_train)"
   ]
  },
  {
   "cell_type": "code",
   "execution_count": null,
   "id": "9c855f04-99da-40c8-a128-0cefe8c0d13b",
   "metadata": {},
   "outputs": [],
   "source": [
    "w0 = model_small.intercept_[0]\n",
    "w0"
   ]
  },
  {
   "cell_type": "code",
   "execution_count": null,
   "id": "89684c2c-db1d-4c25-8dc8-2e68fca8830e",
   "metadata": {},
   "outputs": [],
   "source": [
    "w = model_small.coef_[0]\n",
    "w.round(3)"
   ]
  },
  {
   "cell_type": "code",
   "execution_count": null,
   "id": "3aa43b75-c6a7-4d9b-b7bf-02dc309e7a4a",
   "metadata": {},
   "outputs": [],
   "source": [
    "dict(zip(dv_small.get_feature_names_out(), model.coef_[0].round(3)))"
   ]
  },
  {
   "cell_type": "code",
   "execution_count": null,
   "id": "17770efd-f1bc-4dc5-a656-25d904873ca6",
   "metadata": {},
   "outputs": [],
   "source": [
    "-2.47 + 0.97 + 50 * 0.028 + 5 * (0.036)"
   ]
  },
  {
   "cell_type": "code",
   "execution_count": null,
   "id": "8146e629-467a-4149-b857-bd48e4af913a",
   "metadata": {},
   "outputs": [],
   "source": [
    "sigmoid(_)"
   ]
  },
  {
   "cell_type": "markdown",
   "id": "ae18f187-ae5a-4da1-8448-2ebd644237bb",
   "metadata": {},
   "source": [
    "## Using the model"
   ]
  },
  {
   "cell_type": "code",
   "execution_count": null,
   "id": "3251523d-8b70-4839-a462-5d1e5f6ffef8",
   "metadata": {},
   "outputs": [],
   "source": [
    "dicts_full_train = df_full_train[categorical + numerical].to_dict(orient='records')"
   ]
  },
  {
   "cell_type": "code",
   "execution_count": null,
   "id": "a6f939bc-8109-48d8-82ab-f01d763fe703",
   "metadata": {},
   "outputs": [],
   "source": [
    "dv = DictVectorizer(sparse=False)\n",
    "X_full_train = dv.fit_transform(dicts_full_train)"
   ]
  },
  {
   "cell_type": "code",
   "execution_count": null,
   "id": "894239b9-7698-4976-9109-a19742132b22",
   "metadata": {},
   "outputs": [],
   "source": [
    "y_full_train = df_full_train.churn.values"
   ]
  },
  {
   "cell_type": "code",
   "execution_count": null,
   "id": "b9a8f185-cd81-4092-a999-d0225a996771",
   "metadata": {},
   "outputs": [],
   "source": [
    "model = LogisticRegression(max_iter=1000)\n",
    "model.fit(X_full_train, y_full_train)"
   ]
  },
  {
   "cell_type": "code",
   "execution_count": null,
   "id": "0ae3be5e-fc2d-4ac7-be5b-33b5bec55d97",
   "metadata": {},
   "outputs": [],
   "source": [
    "dicts_test = df_test[categorical +  numerical].to_dict(orient='records')"
   ]
  },
  {
   "cell_type": "code",
   "execution_count": null,
   "id": "8f04079a-5ee0-446d-adbe-9a730988d4a1",
   "metadata": {},
   "outputs": [],
   "source": [
    "X_test = dv.transform(dicts_test)"
   ]
  },
  {
   "cell_type": "code",
   "execution_count": null,
   "id": "1e25bc24-7ba8-4ad9-8b4e-0ba7f36265d2",
   "metadata": {},
   "outputs": [],
   "source": [
    "y_pred = model.predict_proba(X_test)[:, 1]"
   ]
  },
  {
   "cell_type": "code",
   "execution_count": null,
   "id": "49479843-2bca-4ddd-9c6e-536f8e3ec4c7",
   "metadata": {},
   "outputs": [],
   "source": [
    "churn_decision = (y_pred >= 0.5) "
   ]
  },
  {
   "cell_type": "code",
   "execution_count": null,
   "id": "dc6ea830-a10e-467d-ae49-173cbb230432",
   "metadata": {},
   "outputs": [],
   "source": [
    "(churn_decision == y_test).mean()"
   ]
  },
  {
   "cell_type": "code",
   "execution_count": null,
   "id": "cbf927f4-1c47-4885-b4ca-ac249f0cf204",
   "metadata": {},
   "outputs": [],
   "source": [
    "customer = dicts_test[520]\n",
    "customer"
   ]
  },
  {
   "cell_type": "code",
   "execution_count": null,
   "id": "7d7de00a-017f-416c-a57b-b9bedbf3e488",
   "metadata": {},
   "outputs": [],
   "source": [
    "X_small = dv.transform([customer])"
   ]
  },
  {
   "cell_type": "code",
   "execution_count": null,
   "id": "cc1c8a12-7405-4759-b6f8-c14df8a831a7",
   "metadata": {},
   "outputs": [],
   "source": [
    "model.predict_proba(X_small)[0, 1]"
   ]
  },
  {
   "cell_type": "code",
   "execution_count": null,
   "id": "2926b879-95ea-4b46-883c-36a4aa500e2d",
   "metadata": {},
   "outputs": [],
   "source": [
    "y_test[10]"
   ]
  },
  {
   "cell_type": "code",
   "execution_count": null,
   "id": "d3b65af3-8657-4578-8b81-efc672b592c2",
   "metadata": {},
   "outputs": [],
   "source": []
  }
 ],
 "metadata": {
  "kernelspec": {
   "display_name": "Python 3 (ipykernel)",
   "language": "python",
   "name": "python3"
  },
  "language_info": {
   "codemirror_mode": {
    "name": "ipython",
    "version": 3
   },
   "file_extension": ".py",
   "mimetype": "text/x-python",
   "name": "python",
   "nbconvert_exporter": "python",
   "pygments_lexer": "ipython3",
   "version": "3.10.18"
  }
 },
 "nbformat": 4,
 "nbformat_minor": 5
}
